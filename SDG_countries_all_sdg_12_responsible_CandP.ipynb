{
 "cells": [
  {
   "cell_type": "code",
   "execution_count": 1,
   "id": "green-warehouse",
   "metadata": {},
   "outputs": [],
   "source": [
    "import pandas as pd\n",
    "import numpy as np\n",
    "import seaborn as sns\n",
    "import matplotlib.pyplot as plt\n",
    "%matplotlib inline\n",
    "import warnings\n",
    "warnings.filterwarnings(\"ignore\")"
   ]
  },
  {
   "cell_type": "code",
   "execution_count": 2,
   "id": "united-premium",
   "metadata": {},
   "outputs": [
    {
     "data": {
      "text/plain": [
       "((147, 12), (193, 3), (193, 3), (3894, 119))"
      ]
     },
     "execution_count": 2,
     "metadata": {},
     "output_type": "execute_result"
    }
   ],
   "source": [
    "df_fig211=pd.read_csv(\"Copy of Appendix_2_Data_for_Figure_2.1-1.csv\")\n",
    "df_SDG_Global_countries_Index_2022=pd.read_csv(\"Data_SDG_Global_countries_Index_2022.csv\")\n",
    "df_SDG_Global_countries_specific_sdg_indicators=pd.read_csv(\"Data_SDG_Global_countries_specific_sdg_indicators.csv\")\n",
    "Data_SDG_Global_countries_all_sdg_indicators_trend=pd.read_csv(\"Data_SDG_Global_countries_all_sdg_indicators_trend.csv\")\n",
    "\n",
    "df_fig211.shape,df_SDG_Global_countries_Index_2022.shape,df_SDG_Global_countries_specific_sdg_indicators.shape,Data_SDG_Global_countries_all_sdg_indicators_trend.shape\n"
   ]
  },
  {
   "cell_type": "code",
   "execution_count": 4,
   "id": "emerging-england",
   "metadata": {},
   "outputs": [
    {
     "data": {
      "text/html": [
       "<div>\n",
       "<style scoped>\n",
       "    .dataframe tbody tr th:only-of-type {\n",
       "        vertical-align: middle;\n",
       "    }\n",
       "\n",
       "    .dataframe tbody tr th {\n",
       "        vertical-align: top;\n",
       "    }\n",
       "\n",
       "    .dataframe thead th {\n",
       "        text-align: right;\n",
       "    }\n",
       "</style>\n",
       "<table border=\"1\" class=\"dataframe\">\n",
       "  <thead>\n",
       "    <tr style=\"text-align: right;\">\n",
       "      <th></th>\n",
       "      <th>Country Code ISO3</th>\n",
       "      <th>Country</th>\n",
       "      <th>Year</th>\n",
       "      <th>Population</th>\n",
       "      <th>Region</th>\n",
       "      <th>Income Group</th>\n",
       "      <th>SDG Index Score</th>\n",
       "      <th>Goal 1 Score</th>\n",
       "      <th>Goal 2 Score</th>\n",
       "      <th>Goal 3 Score</th>\n",
       "      <th>...</th>\n",
       "      <th>n_sdg16_cpi</th>\n",
       "      <th>n_sdg16_clabor</th>\n",
       "      <th>n_sdg16_weaponsexp</th>\n",
       "      <th>n_sdg16_rsf</th>\n",
       "      <th>n_sdg16_justice</th>\n",
       "      <th>n_sdg17_govex</th>\n",
       "      <th>n_sdg17_oda</th>\n",
       "      <th>n_sdg17_govrev</th>\n",
       "      <th>n_sdg17_cohaven</th>\n",
       "      <th>n_sdg17_statperf</th>\n",
       "    </tr>\n",
       "  </thead>\n",
       "  <tbody>\n",
       "    <tr>\n",
       "      <th>3806</th>\n",
       "      <td>World</td>\n",
       "      <td>World</td>\n",
       "      <td>2000</td>\n",
       "      <td>NaN</td>\n",
       "      <td>NaN</td>\n",
       "      <td>NaN</td>\n",
       "      <td>59.4</td>\n",
       "      <td>59.0</td>\n",
       "      <td>60.9</td>\n",
       "      <td>55.0</td>\n",
       "      <td>...</td>\n",
       "      <td>35.9</td>\n",
       "      <td>77.0</td>\n",
       "      <td>87.8</td>\n",
       "      <td>50.4</td>\n",
       "      <td>58.5</td>\n",
       "      <td>34.8</td>\n",
       "      <td>NaN</td>\n",
       "      <td>15.6</td>\n",
       "      <td>100.0</td>\n",
       "      <td>51.9</td>\n",
       "    </tr>\n",
       "    <tr>\n",
       "      <th>3807</th>\n",
       "      <td>World</td>\n",
       "      <td>World</td>\n",
       "      <td>2001</td>\n",
       "      <td>NaN</td>\n",
       "      <td>NaN</td>\n",
       "      <td>NaN</td>\n",
       "      <td>59.5</td>\n",
       "      <td>58.8</td>\n",
       "      <td>60.9</td>\n",
       "      <td>55.8</td>\n",
       "      <td>...</td>\n",
       "      <td>35.9</td>\n",
       "      <td>76.8</td>\n",
       "      <td>87.9</td>\n",
       "      <td>50.4</td>\n",
       "      <td>58.4</td>\n",
       "      <td>35.7</td>\n",
       "      <td>NaN</td>\n",
       "      <td>15.3</td>\n",
       "      <td>100.0</td>\n",
       "      <td>51.9</td>\n",
       "    </tr>\n",
       "    <tr>\n",
       "      <th>3808</th>\n",
       "      <td>World</td>\n",
       "      <td>World</td>\n",
       "      <td>2002</td>\n",
       "      <td>NaN</td>\n",
       "      <td>NaN</td>\n",
       "      <td>NaN</td>\n",
       "      <td>59.6</td>\n",
       "      <td>58.6</td>\n",
       "      <td>60.4</td>\n",
       "      <td>56.1</td>\n",
       "      <td>...</td>\n",
       "      <td>35.8</td>\n",
       "      <td>76.5</td>\n",
       "      <td>88.0</td>\n",
       "      <td>50.5</td>\n",
       "      <td>58.3</td>\n",
       "      <td>36.3</td>\n",
       "      <td>NaN</td>\n",
       "      <td>16.1</td>\n",
       "      <td>100.0</td>\n",
       "      <td>51.8</td>\n",
       "    </tr>\n",
       "    <tr>\n",
       "      <th>3809</th>\n",
       "      <td>World</td>\n",
       "      <td>World</td>\n",
       "      <td>2003</td>\n",
       "      <td>NaN</td>\n",
       "      <td>NaN</td>\n",
       "      <td>NaN</td>\n",
       "      <td>59.7</td>\n",
       "      <td>58.4</td>\n",
       "      <td>60.3</td>\n",
       "      <td>56.7</td>\n",
       "      <td>...</td>\n",
       "      <td>35.7</td>\n",
       "      <td>76.3</td>\n",
       "      <td>88.1</td>\n",
       "      <td>50.5</td>\n",
       "      <td>58.2</td>\n",
       "      <td>36.0</td>\n",
       "      <td>NaN</td>\n",
       "      <td>16.4</td>\n",
       "      <td>100.0</td>\n",
       "      <td>51.7</td>\n",
       "    </tr>\n",
       "    <tr>\n",
       "      <th>3810</th>\n",
       "      <td>World</td>\n",
       "      <td>World</td>\n",
       "      <td>2004</td>\n",
       "      <td>NaN</td>\n",
       "      <td>NaN</td>\n",
       "      <td>NaN</td>\n",
       "      <td>59.8</td>\n",
       "      <td>58.2</td>\n",
       "      <td>60.5</td>\n",
       "      <td>57.4</td>\n",
       "      <td>...</td>\n",
       "      <td>35.6</td>\n",
       "      <td>76.1</td>\n",
       "      <td>88.2</td>\n",
       "      <td>50.5</td>\n",
       "      <td>58.1</td>\n",
       "      <td>35.3</td>\n",
       "      <td>NaN</td>\n",
       "      <td>16.8</td>\n",
       "      <td>100.0</td>\n",
       "      <td>51.7</td>\n",
       "    </tr>\n",
       "  </tbody>\n",
       "</table>\n",
       "<p>5 rows × 119 columns</p>\n",
       "</div>"
      ],
      "text/plain": [
       "     Country Code ISO3 Country  Year  Population Region Income Group  \\\n",
       "3806             World   World  2000         NaN    NaN          NaN   \n",
       "3807             World   World  2001         NaN    NaN          NaN   \n",
       "3808             World   World  2002         NaN    NaN          NaN   \n",
       "3809             World   World  2003         NaN    NaN          NaN   \n",
       "3810             World   World  2004         NaN    NaN          NaN   \n",
       "\n",
       "      SDG Index Score  Goal 1 Score  Goal 2 Score  Goal 3 Score  ...  \\\n",
       "3806             59.4          59.0          60.9          55.0  ...   \n",
       "3807             59.5          58.8          60.9          55.8  ...   \n",
       "3808             59.6          58.6          60.4          56.1  ...   \n",
       "3809             59.7          58.4          60.3          56.7  ...   \n",
       "3810             59.8          58.2          60.5          57.4  ...   \n",
       "\n",
       "      n_sdg16_cpi  n_sdg16_clabor  n_sdg16_weaponsexp  n_sdg16_rsf  \\\n",
       "3806         35.9            77.0                87.8         50.4   \n",
       "3807         35.9            76.8                87.9         50.4   \n",
       "3808         35.8            76.5                88.0         50.5   \n",
       "3809         35.7            76.3                88.1         50.5   \n",
       "3810         35.6            76.1                88.2         50.5   \n",
       "\n",
       "      n_sdg16_justice  n_sdg17_govex  n_sdg17_oda  n_sdg17_govrev  \\\n",
       "3806             58.5           34.8          NaN            15.6   \n",
       "3807             58.4           35.7          NaN            15.3   \n",
       "3808             58.3           36.3          NaN            16.1   \n",
       "3809             58.2           36.0          NaN            16.4   \n",
       "3810             58.1           35.3          NaN            16.8   \n",
       "\n",
       "      n_sdg17_cohaven  n_sdg17_statperf  \n",
       "3806            100.0              51.9  \n",
       "3807            100.0              51.9  \n",
       "3808            100.0              51.8  \n",
       "3809            100.0              51.7  \n",
       "3810            100.0              51.7  \n",
       "\n",
       "[5 rows x 119 columns]"
      ]
     },
     "execution_count": 4,
     "metadata": {},
     "output_type": "execute_result"
    }
   ],
   "source": [
    "df_SDG_country_all_sdg_indicators_trend_World=Data_SDG_Global_countries_all_sdg_indicators_trend[(Data_SDG_Global_countries_all_sdg_indicators_trend['Country']=='World')]\n",
    "df_SDG_country_all_sdg_indicators_trend_World.head()"
   ]
  },
  {
   "cell_type": "code",
   "execution_count": 5,
   "id": "prime-value",
   "metadata": {},
   "outputs": [
    {
     "data": {
      "text/plain": [
       "[<matplotlib.lines.Line2D at 0x6fb3d00>]"
      ]
     },
     "execution_count": 5,
     "metadata": {},
     "output_type": "execute_result"
    },
    {
     "data": {
      "image/png": "[encoded data removed]",
      "text/plain": [
       "<Figure size 432x288 with 1 Axes>"
      ]
     },
     "metadata": {
      "needs_background": "light"
     },
     "output_type": "display_data"
    }
   ],
   "source": [
    "plt.plot(df_SDG_country_all_sdg_indicators_trend_World['Year'],df_SDG_country_all_sdg_indicators_trend_World['Goal 12 Score'])\n"
   ]
  },
  {
   "cell_type": "code",
   "execution_count": 18,
   "id": "checked-pottery",
   "metadata": {},
   "outputs": [],
   "source": [
    "df_SDG_country_all_sdg_indicators_trend_Nepal=Data_SDG_Global_countries_all_sdg_indicators_trend[(Data_SDG_Global_countries_all_sdg_indicators_trend['Country']=='Nepal')]\n",
    "df_SDG_country_all_sdg_indicators_trend_Thailand=Data_SDG_Global_countries_all_sdg_indicators_trend[(Data_SDG_Global_countries_all_sdg_indicators_trend['Country']=='Thailand')]\n",
    "df_SDG_country_all_sdg_indicators_trend_Finland=Data_SDG_Global_countries_all_sdg_indicators_trend[(Data_SDG_Global_countries_all_sdg_indicators_trend['Country']=='Finland')]\n",
    "df_SDG_country_all_sdg_indicators_trend_China=Data_SDG_Global_countries_all_sdg_indicators_trend[(Data_SDG_Global_countries_all_sdg_indicators_trend['Country']=='China')]\n",
    "df_SDG_country_all_sdg_indicators_trend_Albania=Data_SDG_Global_countries_all_sdg_indicators_trend[(Data_SDG_Global_countries_all_sdg_indicators_trend['Country']=='Albania')]\n",
    "df_SDG_country_all_sdg_indicators_trend_India=Data_SDG_Global_countries_all_sdg_indicators_trend[(Data_SDG_Global_countries_all_sdg_indicators_trend['Country']=='India')]\n",
    "df_SDG_country_all_sdg_indicators_trend_Mongolia=Data_SDG_Global_countries_all_sdg_indicators_trend[(Data_SDG_Global_countries_all_sdg_indicators_trend['Country']=='Mongolia')]"
   ]
  },
  {
   "cell_type": "code",
   "execution_count": 10,
   "id": "hairy-aruba",
   "metadata": {},
   "outputs": [
    {
     "data": {
      "text/plain": [
       "[<matplotlib.lines.Line2D at 0x59fd910>]"
      ]
     },
     "execution_count": 10,
     "metadata": {},
     "output_type": "execute_result"
    },
    {
     "data": {
      "image/png": "[encoded data removed]",
      "text/plain": [
       "<Figure size 432x288 with 1 Axes>"
      ]
     },
     "metadata": {
      "needs_background": "light"
     },
     "output_type": "display_data"
    }
   ],
   "source": [
    "plt.plot(df_SDG_country_all_sdg_indicators_trend_Finland['Year'],df_SDG_country_all_sdg_indicators_trend_Finland['Goal 12 Score'])\n",
    "plt.plot(df_SDG_country_all_sdg_indicators_trend_Albania['Year'],df_SDG_country_all_sdg_indicators_trend_Albania['Goal 12 Score'])\n",
    "plt.plot(df_SDG_country_all_sdg_indicators_trend_India['Year'],df_SDG_country_all_sdg_indicators_trend_India['Goal 12 Score'])\n",
    "plt.plot(df_SDG_country_all_sdg_indicators_trend_China['Year'],df_SDG_country_all_sdg_indicators_trend_China['Goal 12 Score'])\n",
    "plt.plot(df_SDG_country_all_sdg_indicators_trend_Thailand['Year'],df_SDG_country_all_sdg_indicators_trend_Thailand['Goal 12 Score'])\n"
   ]
  },
  {
   "cell_type": "code",
   "execution_count": 19,
   "id": "institutional-guatemala",
   "metadata": {},
   "outputs": [
    {
     "data": {
      "text/html": [
       "<div>\n",
       "<style scoped>\n",
       "    .dataframe tbody tr th:only-of-type {\n",
       "        vertical-align: middle;\n",
       "    }\n",
       "\n",
       "    .dataframe tbody tr th {\n",
       "        vertical-align: top;\n",
       "    }\n",
       "\n",
       "    .dataframe thead th {\n",
       "        text-align: right;\n",
       "    }\n",
       "</style>\n",
       "<table border=\"1\" class=\"dataframe\">\n",
       "  <thead>\n",
       "    <tr style=\"text-align: right;\">\n",
       "      <th></th>\n",
       "      <th>Country</th>\n",
       "      <th>Goal 12 Score</th>\n",
       "    </tr>\n",
       "  </thead>\n",
       "  <tbody>\n",
       "    <tr>\n",
       "      <th>42</th>\n",
       "      <td>Albania</td>\n",
       "      <td>86.8</td>\n",
       "    </tr>\n",
       "    <tr>\n",
       "      <th>702</th>\n",
       "      <td>China</td>\n",
       "      <td>90.6</td>\n",
       "    </tr>\n",
       "    <tr>\n",
       "      <th>1186</th>\n",
       "      <td>Finland</td>\n",
       "      <td>70.2</td>\n",
       "    </tr>\n",
       "    <tr>\n",
       "      <th>1538</th>\n",
       "      <td>India</td>\n",
       "      <td>96.2</td>\n",
       "    </tr>\n",
       "    <tr>\n",
       "      <th>2330</th>\n",
       "      <td>Mongolia</td>\n",
       "      <td>70.1</td>\n",
       "    </tr>\n",
       "    <tr>\n",
       "      <th>3474</th>\n",
       "      <td>Thailand</td>\n",
       "      <td>83.7</td>\n",
       "    </tr>\n",
       "  </tbody>\n",
       "</table>\n",
       "</div>"
      ],
      "text/plain": [
       "       Country  Goal 12 Score\n",
       "42     Albania           86.8\n",
       "702      China           90.6\n",
       "1186   Finland           70.2\n",
       "1538     India           96.2\n",
       "2330  Mongolia           70.1\n",
       "3474  Thailand           83.7"
      ]
     },
     "execution_count": 19,
     "metadata": {},
     "output_type": "execute_result"
    }
   ],
   "source": [
    "countries=['India','China','Finland','Thailand','Albania','Mongolia']\n",
    "Data_SDG_Global_countries_all_sdg_indicators_trend[(Data_SDG_Global_countries_all_sdg_indicators_trend['Year']==2020)&(Data_SDG_Global_countries_all_sdg_indicators_trend['Country'].isin(countries))][['Country','Goal 12 Score']]"
   ]
  },
  {
   "cell_type": "code",
   "execution_count": null,
   "id": "systematic-thesaurus",
   "metadata": {},
   "outputs": [],
   "source": []
  }
 ],
 "metadata": {
  "kernelspec": {
   "display_name": "Python 3",
   "language": "python",
   "name": "python3"
  },
  "language_info": {
   "codemirror_mode": {
    "name": "ipython",
    "version": 3
   },
   "file_extension": ".py",
   "mimetype": "text/x-python",
   "name": "python",
   "nbconvert_exporter": "python",
   "pygments_lexer": "ipython3",
   "version": "3.8.8"
  }
 },
 "nbformat": 4,
 "nbformat_minor": 5
}
